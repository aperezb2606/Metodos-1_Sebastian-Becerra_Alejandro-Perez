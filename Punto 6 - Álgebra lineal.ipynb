{
 "cells": [
  {
   "cell_type": "code",
   "execution_count": 6,
   "id": "e4ea4bbf",
   "metadata": {},
   "outputs": [],
   "source": [
    "import numpy as np"
   ]
  },
  {
   "cell_type": "code",
   "execution_count": 7,
   "id": "bd078a90",
   "metadata": {},
   "outputs": [],
   "source": [
    "def sor(A, b, x0, w, tol, max_iter):\n",
    "    n = len(b)\n",
    "    x = np.copy(x0)\n",
    "    iter = 0\n",
    "    error = tol + 1\n",
    "    while error > tol and iter < max_iter:\n",
    "        x_old = np.copy(x)\n",
    "        for i in range(n):\n",
    "            sigma = 0\n",
    "            for j in range(n):\n",
    "                if i != j:\n",
    "                    sigma += A[i,j] * x[j]\n",
    "            x[i] = (1 - w) * x_old[i] + (w / A[i,i]) * (b[i] - sigma)\n",
    "        error = np.linalg.norm(x - x_old, np.inf) / np.linalg.norm(x, np.inf)\n",
    "        iter += 1\n",
    "    return x, iter"
   ]
  },
  {
   "cell_type": "code",
   "execution_count": 8,
   "id": "dc50548f",
   "metadata": {},
   "outputs": [
    {
     "name": "stdout",
     "output_type": "stream",
     "text": [
      "La solución es: (array([1, 0, 0]), 1000)\n"
     ]
    }
   ],
   "source": [
    "A = np.array([[3, -1, -1], [-1, 3, 1], [2, 1, 4]])\n",
    "b = np.array([1, 3, 7])\n",
    "x0= np.zeros_like(b)\n",
    "tol=1e-6\n",
    "max_iter=1000\n",
    "w=1.35\n",
    "print(\"La solución es:\", sor(A,b,x0,w,tol,max_iter))\n"
   ]
  },
  {
   "cell_type": "markdown",
   "id": "8426ecd8",
   "metadata": {},
   "source": [
    "Tanteando con distintos valores del parametro de relajación se logra determinar que las iteraciona se minimizan cuando el parametro de relajacion varia entre 1.1 y 1.3"
   ]
  },
  {
   "cell_type": "code",
   "execution_count": null,
   "id": "173e9117",
   "metadata": {},
   "outputs": [],
   "source": []
  }
 ],
 "metadata": {
  "kernelspec": {
   "display_name": "Python 3 (ipykernel)",
   "language": "python",
   "name": "python3"
  },
  "language_info": {
   "codemirror_mode": {
    "name": "ipython",
    "version": 3
   },
   "file_extension": ".py",
   "mimetype": "text/x-python",
   "name": "python",
   "nbconvert_exporter": "python",
   "pygments_lexer": "ipython3",
   "version": "3.9.13"
  }
 },
 "nbformat": 4,
 "nbformat_minor": 5
}
