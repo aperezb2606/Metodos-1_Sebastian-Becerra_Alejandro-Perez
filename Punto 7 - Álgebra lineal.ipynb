{
 "cells": [
  {
   "cell_type": "code",
   "execution_count": 6,
   "id": "530407a0",
   "metadata": {},
   "outputs": [],
   "source": [
    "import numpy as np"
   ]
  },
  {
   "cell_type": "code",
   "execution_count": 8,
   "id": "75d615e0",
   "metadata": {},
   "outputs": [
    {
     "name": "stdout",
     "output_type": "stream",
     "text": [
      "L: [[ 1.  0.  0.]\n",
      " [ 5.  1.  0.]\n",
      " [-2.  3.  1.]]\n",
      "U: [[ 4 -2  1]\n",
      " [ 0  3  7]\n",
      " [ 0  0 -2]]\n"
     ]
    }
   ],
   "source": [
    "def lu_factorization(A):\n",
    "    n = A.shape[0]\n",
    "    L = np.eye(n)\n",
    "    U = np.copy(A)\n",
    "    \n",
    "    for j in range(n):\n",
    "        for i in range(j+1, n):\n",
    "            L[i, j] = U[i, j] / U[j, j]\n",
    "            U[i, j:n] = U[i, j:n] - L[i, j] * U[j, j:n]\n",
    "    \n",
    "    return np.matrix(L), np.matrix(U)\n",
    "\n",
    "A = np.array([[4, -2, 1], [20, -7, 12], [-8, 13, 17]])\n",
    "L, U = lu_factorization(A)\n",
    "print(\"L:\", L)\n",
    "print(\"U:\", U)"
   ]
  },
  {
   "cell_type": "code",
   "execution_count": null,
   "id": "f6d8372e",
   "metadata": {},
   "outputs": [],
   "source": []
  }
 ],
 "metadata": {
  "kernelspec": {
   "display_name": "Python 3 (ipykernel)",
   "language": "python",
   "name": "python3"
  },
  "language_info": {
   "codemirror_mode": {
    "name": "ipython",
    "version": 3
   },
   "file_extension": ".py",
   "mimetype": "text/x-python",
   "name": "python",
   "nbconvert_exporter": "python",
   "pygments_lexer": "ipython3",
   "version": "3.9.13"
  }
 },
 "nbformat": 4,
 "nbformat_minor": 5
}
