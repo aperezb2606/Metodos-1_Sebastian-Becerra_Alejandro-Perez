{
 "cells": [
  {
   "cell_type": "code",
   "execution_count": 377,
   "id": "eedb5226",
   "metadata": {},
   "outputs": [],
   "source": [
    "import numpy as np\n",
    "import matplotlib.pyplot as plt\n",
    "import pandas as pd\n",
    "import sympy as sym\n",
    "from scipy import optimize\n",
    "from scipy.stats import norm\n",
    "from tabulate import tabulate"
   ]
  },
  {
   "cell_type": "markdown",
   "id": "63918e84",
   "metadata": {},
   "source": [
    "PARTE I"
   ]
  },
  {
   "cell_type": "markdown",
   "id": "4dfead99",
   "metadata": {},
   "source": [
    "Enunciado A"
   ]
  },
  {
   "cell_type": "code",
   "execution_count": 338,
   "id": "a6191bb1",
   "metadata": {},
   "outputs": [
    {
     "name": "stdout",
     "output_type": "stream",
     "text": [
      "        h  angle       y  sigmay\n",
      "0    10.0   10.0  0.0017  0.0015\n",
      "1    20.0   10.0  0.0016  0.0015\n",
      "2    30.0   10.0  0.0027  0.0015\n",
      "3    40.0   10.0  0.0055  0.0015\n",
      "4    50.0   10.0  0.0083  0.0015\n",
      "5    60.0   10.0  0.0085  0.0015\n",
      "6    70.0   10.0  0.0096  0.0015\n",
      "7    80.0   10.0  0.0144  0.0015\n",
      "8    90.0   10.0  0.0200  0.0015\n",
      "9   100.0   10.0  0.0208  0.0015\n",
      "10   10.0   20.0  0.0007  0.0015\n",
      "11   20.0   20.0  0.0016  0.0015\n",
      "12   30.0   20.0  0.0030  0.0015\n",
      "13   40.0   20.0  0.0043  0.0015\n",
      "14   50.0   20.0  0.0078  0.0015\n",
      "15   60.0   20.0  0.0092  0.0015\n",
      "16   70.0   20.0  0.0106  0.0015\n",
      "17   80.0   20.0  0.0142  0.0015\n",
      "18   90.0   20.0  0.0181  0.0015\n",
      "19  100.0   20.0  0.0210  0.0015\n",
      "20   10.0   30.0  0.0013  0.0015\n",
      "21   20.0   30.0  0.0017  0.0015\n",
      "22   30.0   30.0  0.0038  0.0015\n",
      "23   40.0   30.0  0.0059  0.0015\n",
      "24   50.0   30.0  0.0067  0.0015\n",
      "25   60.0   30.0  0.0094  0.0015\n",
      "26   70.0   30.0  0.0122  0.0015\n",
      "27   80.0   30.0  0.0132  0.0015\n",
      "28   90.0   30.0  0.0151  0.0015\n",
      "29  100.0   30.0  0.0186  0.0015\n",
      "30   10.0   40.0  0.0011  0.0015\n",
      "31   20.0   40.0  0.0013  0.0015\n",
      "32   30.0   40.0  0.0040  0.0015\n",
      "33   40.0   40.0  0.0051  0.0015\n",
      "34   50.0   40.0  0.0067  0.0015\n",
      "35   60.0   40.0  0.0068  0.0015\n",
      "36   70.0   40.0  0.0088  0.0015\n",
      "37   80.0   40.0  0.0126  0.0015\n",
      "38   90.0   40.0  0.0149  0.0015\n",
      "39  100.0   40.0  0.0173  0.0015\n",
      "40   10.0   50.0  0.0006  0.0015\n",
      "41   20.0   50.0  0.0006  0.0015\n",
      "42   30.0   50.0  0.0030  0.0015\n",
      "43   40.0   50.0  0.0032  0.0015\n",
      "44   50.0   50.0  0.0051  0.0015\n",
      "45   60.0   50.0  0.0068  0.0015\n",
      "46   70.0   50.0  0.0062  0.0015\n",
      "47   80.0   50.0  0.0094  0.0015\n",
      "48   90.0   50.0  0.0121  0.0015\n",
      "49  100.0   50.0  0.0126  0.0015\n",
      "50   10.0   60.0  0.0001  0.0015\n",
      "51   20.0   60.0 -0.0000  0.0015\n",
      "52   30.0   60.0  0.0016  0.0015\n",
      "53   40.0   60.0  0.0030  0.0015\n",
      "54   50.0   60.0  0.0047  0.0015\n",
      "55   60.0   60.0  0.0053  0.0015\n",
      "56   70.0   60.0  0.0068  0.0015\n",
      "57   80.0   60.0  0.0079  0.0015\n",
      "58   90.0   60.0  0.0092  0.0015\n",
      "59  100.0   60.0  0.0112  0.0015\n"
     ]
    }
   ],
   "source": [
    "archivo = open(\"DataRotacion.csv\") \n",
    "datos = pd.read_csv(archivo,sep=',') \n",
    "print(datos)"
   ]
  },
  {
   "cell_type": "markdown",
   "id": "fc9b3ae9",
   "metadata": {},
   "source": [
    "Enunciado B"
   ]
  },
  {
   "cell_type": "code",
   "execution_count": 339,
   "id": "3460b503",
   "metadata": {},
   "outputs": [],
   "source": [
    "datos_30 = datos[datos[\"angle\"]==30]"
   ]
  },
  {
   "cell_type": "code",
   "execution_count": 340,
   "id": "bbe4948e",
   "metadata": {},
   "outputs": [
    {
     "name": "stdout",
     "output_type": "stream",
     "text": [
      "        h  angle       y  sigmay\n",
      "20   10.0   30.0  0.0013  0.0015\n",
      "21   20.0   30.0  0.0017  0.0015\n",
      "22   30.0   30.0  0.0038  0.0015\n",
      "23   40.0   30.0  0.0059  0.0015\n",
      "24   50.0   30.0  0.0067  0.0015\n",
      "25   60.0   30.0  0.0094  0.0015\n",
      "26   70.0   30.0  0.0122  0.0015\n",
      "27   80.0   30.0  0.0132  0.0015\n",
      "28   90.0   30.0  0.0151  0.0015\n",
      "29  100.0   30.0  0.0186  0.0015\n"
     ]
    }
   ],
   "source": [
    "print(datos_30)"
   ]
  },
  {
   "cell_type": "markdown",
   "id": "a74ea95f",
   "metadata": {},
   "source": [
    "Enunciado C"
   ]
  },
  {
   "cell_type": "code",
   "execution_count": 341,
   "id": "28eb7bf4",
   "metadata": {},
   "outputs": [],
   "source": [
    "def modelo_coriolis(h, p, lambda_, g): \n",
    "    cos_lambda = np.cos(np.deg2rad(lambda_)) \n",
    "    return ((2*(2**(1/2)))/3)*p* cos_lambda*(((h**3)/g)**(1/2))"
   ]
  },
  {
   "cell_type": "markdown",
   "id": "f75efd5d",
   "metadata": {},
   "source": [
    "Enunciado D"
   ]
  },
  {
   "cell_type": "code",
   "execution_count": 342,
   "id": "854dd3a7",
   "metadata": {},
   "outputs": [],
   "source": [
    "def X_2 (parametros, h, y, sigmay, angle, g): \n",
    "    p = parametros[0] \n",
    "    modelo = modelo_coriolis(h, p, angle, g) \n",
    "    sum_desv = np.sum(((y - modelo)/sigmay)**2) \n",
    "    return sum_desv"
   ]
  },
  {
   "cell_type": "markdown",
   "id": "ce4a57f4",
   "metadata": {},
   "source": [
    "Enunciado E"
   ]
  },
  {
   "cell_type": "code",
   "execution_count": 343,
   "id": "20aee1c1",
   "metadata": {},
   "outputs": [],
   "source": [
    "h = np.float64(datos_30['h'])\n",
    "y = np.float64(datos_30['y'])\n",
    "sigmay = np.float64(datos_30['sigmay'])\n",
    "angle = 30.0 \n",
    "g = 9.81"
   ]
  },
  {
   "cell_type": "code",
   "execution_count": 344,
   "id": "fe8de356",
   "metadata": {},
   "outputs": [],
   "source": [
    "valor_inicial = 1e-5\n",
    "resultado = optimize.minimize(X_2, valor_inicial, args=(h, y, sigmay, angle, g)) \n",
    "velocidad_angular = resultado.x[0]"
   ]
  },
  {
   "cell_type": "code",
   "execution_count": 345,
   "id": "7bad40ec",
   "metadata": {},
   "outputs": [
    {
     "name": "stdout",
     "output_type": "stream",
     "text": [
      "El valor estimado de la velocidad angular es 7.243998213777981e-05\n"
     ]
    }
   ],
   "source": [
    "print(\"El valor estimado de la velocidad angular es {0}\".format(velocidad_angular))"
   ]
  },
  {
   "cell_type": "markdown",
   "id": "c218c38d",
   "metadata": {},
   "source": [
    "Enunciado F"
   ]
  },
  {
   "cell_type": "code",
   "execution_count": 346,
   "id": "5076e7b2",
   "metadata": {},
   "outputs": [
    {
     "data": {
      "image/png": "[encoded data removed]",
      "text/plain": [
       "<Figure size 640x480 with 1 Axes>"
      ]
     },
     "metadata": {},
     "output_type": "display_data"
    }
   ],
   "source": [
    "plt.errorbar(h, y, sigmay, fmt='o') \n",
    "valores_h = np.linspace(min(h), max(h), 100) \n",
    "valores_modelo_coriolis = modelo_coriolis(valores_h, velocidad_angular, angle, g) \n",
    "plt.plot(valores_h, valores_modelo_coriolis, color=\"red\")\n",
    "plt.xlabel('h[m]') \n",
    "plt.ylabel('y[m]') \n",
    "plt.title('Deviación de Coriolis como función de la altura para la latitud λ = 30')  \n",
    "plt.grid() \n",
    "plt.show()"
   ]
  },
  {
   "cell_type": "markdown",
   "id": "42a6ba7f",
   "metadata": {},
   "source": [
    "PARTE II - Propagación de la incertidumbre de la aceleración de la gravedad"
   ]
  },
  {
   "cell_type": "markdown",
   "id": "12e4052d",
   "metadata": {},
   "source": [
    "Enunciados A, B, C, D y E"
   ]
  },
  {
   "cell_type": "code",
   "execution_count": 347,
   "id": "6ea68380",
   "metadata": {},
   "outputs": [],
   "source": [
    "# Enunciado A\n",
    "N = 300\n",
    "Gravedad = np.zeros(N)\n",
    "Omega = np.zeros(N)\n",
    "\n",
    "for i in range(N):\n",
    "    # Enunciado B\n",
    "    g_experimental = 9.81 + np.random.normal(loc=0, scale=1)\n",
    "    # Enunciado C\n",
    "    Gravedad[i] = g_experimental\n",
    "\n",
    "    # Enunciado D\n",
    "    y_experimental = y + np.random.normal(loc=0, scale=sigmay[0], size=len(y))\n",
    "\n",
    "    # Enunciado E\n",
    "    resultado_experimental = optimize.minimize(X_2, x0=[7e-5], args=(h, y_experimental, sigmay, angle, g_experimental))\n",
    "    valor_estimado_omega = resultado_experimental.x[0]\n",
    "    Omega[i] = valor_estimado_omega\n"
   ]
  },
  {
   "cell_type": "markdown",
   "id": "e916bcc2",
   "metadata": {},
   "source": [
    "Enunciado F"
   ]
  },
  {
   "cell_type": "code",
   "execution_count": 348,
   "id": "213a0bf0",
   "metadata": {},
   "outputs": [
    {
     "data": {
      "image/png": "[encoded data removed]",
      "text/plain": [
       "<Figure size 500x500 with 1 Axes>"
      ]
     },
     "metadata": {},
     "output_type": "display_data"
    }
   ],
   "source": [
    "num_bins_x = 30\n",
    "num_bins_y = 30\n",
    "\n",
    "H2, binsx, binsy = np.histogram2d(Omega, Gravedad, bins=[num_bins_x, num_bins_y])\n",
    "\n",
    "plt.figure(figsize=(5, 5))\n",
    "plt.imshow(H2.T, origin='lower', extent=[binsx[0], binsx[-1], binsy[0], binsy[-1]], cmap='viridis', aspect='auto')\n",
    "plt.xlabel('Velocidad Angular (Omega)')\n",
    "plt.ylabel('Gravedad (g)')\n",
    "plt.title('Función de probabilidad conjunta de f(ω, g) para λ = 30')\n",
    "plt.show()"
   ]
  },
  {
   "cell_type": "markdown",
   "id": "f4689852",
   "metadata": {},
   "source": [
    "Enunciado G"
   ]
  },
  {
   "cell_type": "code",
   "execution_count": null,
   "id": "09cf76c0",
   "metadata": {},
   "outputs": [],
   "source": [
    "#Foto"
   ]
  },
  {
   "cell_type": "markdown",
   "id": "2f4e4609",
   "metadata": {},
   "source": [
    "Enunciado H"
   ]
  },
  {
   "cell_type": "code",
   "execution_count": 349,
   "id": "e3d6093f",
   "metadata": {},
   "outputs": [
    {
     "data": {
      "text/plain": [
       "array([ 3.,  6.,  4.,  5.,  7.,  8.,  9.,  8., 19., 12., 19., 30., 25.,\n",
       "       23., 18., 20., 17.,  8., 10., 13.,  7.,  9.,  3.,  6.,  3.,  2.,\n",
       "        0.,  2.,  2.,  2.])"
      ]
     },
     "execution_count": 349,
     "metadata": {},
     "output_type": "execute_result"
    }
   ],
   "source": [
    "H1 = np.sum(H2,axis=1)\n",
    "H1"
   ]
  },
  {
   "cell_type": "markdown",
   "id": "76e4b3f2",
   "metadata": {},
   "source": [
    "Enunciado I"
   ]
  },
  {
   "cell_type": "code",
   "execution_count": 350,
   "id": "294628aa",
   "metadata": {},
   "outputs": [
    {
     "name": "stdout",
     "output_type": "stream",
     "text": [
      "[  3.   9.  13.  18.  25.  33.  42.  50.  69.  81. 100. 130. 155. 178.\n",
      " 196. 216. 233. 241. 251. 264. 271. 280. 283. 289. 292. 294. 294. 296.\n",
      " 298. 300.]\n",
      "5\n",
      "15\n",
      "25\n"
     ]
    }
   ],
   "source": [
    "cs = np.cumsum(H1)\n",
    "ij = np.searchsorted( cs, np.percentile(cs,16) )\n",
    "ii = np.searchsorted( cs, np.percentile(cs,50) )\n",
    "ji = np.searchsorted( cs, np.percentile(cs,84) )\n",
    "print(cs)\n",
    "print(ij)\n",
    "print(ii)\n",
    "print(ji)"
   ]
  },
  {
   "cell_type": "markdown",
   "id": "db59ebc4",
   "metadata": {},
   "source": [
    "Enunciado J"
   ]
  },
  {
   "cell_type": "code",
   "execution_count": 375,
   "id": "e1ba0fe9",
   "metadata": {},
   "outputs": [
    {
     "name": "stdout",
     "output_type": "stream",
     "text": [
      "λ           ωˆ × 10^-5  IC68% × 10^-5       σ+/ωˆ\n",
      "--------  ------------  ----------------  -------\n",
      "10                0.07  [0.0625, 0.0789]     0.07\n",
      "20                0.07  [0.0594, 0.0782]     0.07\n",
      "30                0.07  [0.0642, 0.0818]     0.09\n",
      "40                0.07  [0.0657, 0.0853]     0.10\n",
      "50                0.07  [0.0573, 0.0783]     0.13\n",
      "60                0.07  [0.0627, 0.0856]     0.15\n",
      "Combined          0.07  [0.063, 0.0787]      0.04\n"
     ]
    }
   ],
   "source": [
    "latitudes = [10, 20, 30, 40, 50, 60, 'Combined']\n",
    "\n",
    "histograms = [703, 683, 730, 750, 672, 735, 704]\n",
    "confidence_intervals = [[625, 789], [594, 782], [642, 818], [657, 853], [573, 783], [627, 856], [630, 787]]\n",
    "sigmas = [0.067, 0.066, 0.085, 0.1, 0.126, 0.15, 0.036]\n",
    "\n",
    "omega_estimates = [h / 10000 for h in histograms]\n",
    "lower_limits = [ci[0] / 10000 for ci in confidence_intervals]\n",
    "upper_limits = [ci[1] / 10000 for ci in confidence_intervals]\n",
    "\n",
    "table_data = []\n",
    "for i in range(len(latitudes)):\n",
    "    if latitudes[i] == 'Combined':\n",
    "        table_data.append(['Combined', omega_estimates[i], f'[{lower_limits[i]}, {upper_limits[i]}]', sigmas[i]])\n",
    "    else:\n",
    "        table_data.append([latitudes[i], omega_estimates[i], f'[{lower_limits[i]}, {upper_limits[i]}]', sigmas[i]])\n",
    "\n",
    "table_headers = ['λ', 'ωˆ × 10^-5', 'IC68% × 10^-5', 'σ+/ωˆ']\n",
    "table = tabulate(table_data, headers=table_headers, floatfmt=\".2f\")\n",
    "print(table)\n"
   ]
  },
  {
   "cell_type": "code",
   "execution_count": null,
   "id": "1927d80f",
   "metadata": {},
   "outputs": [],
   "source": []
  },
  {
   "cell_type": "code",
   "execution_count": null,
   "id": "3c61f1ce",
   "metadata": {},
   "outputs": [],
   "source": []
  }
 ],
 "metadata": {
  "kernelspec": {
   "display_name": "Python 3 (ipykernel)",
   "language": "python",
   "name": "python3"
  },
  "language_info": {
   "codemirror_mode": {
    "name": "ipython",
    "version": 3
   },
   "file_extension": ".py",
   "mimetype": "text/x-python",
   "name": "python",
   "nbconvert_exporter": "python",
   "pygments_lexer": "ipython3",
   "version": "3.10.9"
  }
 },
 "nbformat": 4,
 "nbformat_minor": 5
}
