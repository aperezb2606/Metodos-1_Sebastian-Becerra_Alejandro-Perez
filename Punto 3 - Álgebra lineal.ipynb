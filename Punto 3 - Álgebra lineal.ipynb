{
 "cells": [
  {
   "cell_type": "code",
   "execution_count": 1,
   "id": "69564337",
   "metadata": {},
   "outputs": [],
   "source": [
    "import numpy as np"
   ]
  },
  {
   "cell_type": "code",
   "execution_count": 2,
   "id": "ea7b0433",
   "metadata": {},
   "outputs": [],
   "source": [
    "\"Punto 3: Multiplicacion de matrices\"\n",
    "def Multiplicar_matrices (A,B):\n",
    "    respuesta= np.zeros((len(A),len(B[0])))\n",
    "    if len(A[0]) == len(B):\n",
    "        for i in range(0,len(A)):\n",
    "            for j in range(0,len(B[0])):\n",
    "                for k in range(0,len(B)):\n",
    "                    respuesta[i][j]+=A[i][k]*B[k][j]\n",
    "    else:\n",
    "     print(\"No se puede realizar la multiplicación.\")\n",
    "    return respuesta"
   ]
  },
  {
   "cell_type": "code",
   "execution_count": 3,
   "id": "80752931",
   "metadata": {
    "scrolled": true
   },
   "outputs": [
    {
     "name": "stdout",
     "output_type": "stream",
     "text": [
      "[[ 4. -2.  1.]\n",
      " [20. -7. 12.]\n",
      " [-8. 13. 21.]]\n"
     ]
    }
   ],
   "source": [
    "A= np.array([[1,0,0],[5,1,0],[-2,3,1]])\n",
    "B= np.array([[4,-2,1],[0,3,7],[0,0,2]])\n",
    "print(Multiplicar_matrices(A, B))    "
   ]
  },
  {
   "cell_type": "code",
   "execution_count": null,
   "id": "6ab22f57",
   "metadata": {},
   "outputs": [],
   "source": []
  }
 ],
 "metadata": {
  "kernelspec": {
   "display_name": "Python 3 (ipykernel)",
   "language": "python",
   "name": "python3"
  },
  "language_info": {
   "codemirror_mode": {
    "name": "ipython",
    "version": 3
   },
   "file_extension": ".py",
   "mimetype": "text/x-python",
   "name": "python",
   "nbconvert_exporter": "python",
   "pygments_lexer": "ipython3",
   "version": "3.9.13"
  }
 },
 "nbformat": 4,
 "nbformat_minor": 5
}
