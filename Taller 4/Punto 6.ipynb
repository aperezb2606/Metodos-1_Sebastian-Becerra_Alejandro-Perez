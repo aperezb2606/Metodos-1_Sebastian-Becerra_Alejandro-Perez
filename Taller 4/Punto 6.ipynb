{
 "cells": [
  {
   "cell_type": "code",
   "execution_count": 6,
   "id": "7212c3b8",
   "metadata": {},
   "outputs": [],
   "source": [
    "import numpy as np"
   ]
  },
  {
   "cell_type": "code",
   "execution_count": 7,
   "id": "f4289248",
   "metadata": {},
   "outputs": [
    {
     "name": "stdout",
     "output_type": "stream",
     "text": [
      "La solución es: [-1.33938576e+301 -5.91590884e+285  2.67877152e+301]\n"
     ]
    }
   ],
   "source": [
    "A = np.array([[3, -1, -1], [-1, 3, 1], [2, 1, 4]], dtype=float)\n",
    "b = np.array([1, 3, 7], dtype=float)\n",
    "\n",
    "omega = 1.5\n",
    "x0 = np.zeros_like(b, dtype=float)\n",
    "max_iter = 1000\n",
    "tolerancia = 1e-6\n",
    "\n",
    "for i in range(max_iter):\n",
    "    for j in range(len(b)):\n",
    "        correction = omega * (b[j] - np.dot(A[j, :], x0) + A[j, j] * x0[j])\n",
    "        x0[j] += correction\n",
    "    error = np.linalg.norm(x0 - x_old)\n",
    "    if error < tolerancia:\n",
    "        break\n",
    "\n",
    "print(\"La solución es:\", x0)"
   ]
  },
  {
   "cell_type": "code",
   "execution_count": null,
   "id": "bcae117e",
   "metadata": {},
   "outputs": [],
   "source": []
  }
 ],
 "metadata": {
  "kernelspec": {
   "display_name": "Python 3 (ipykernel)",
   "language": "python",
   "name": "python3"
  },
  "language_info": {
   "codemirror_mode": {
    "name": "ipython",
    "version": 3
   },
   "file_extension": ".py",
   "mimetype": "text/x-python",
   "name": "python",
   "nbconvert_exporter": "python",
   "pygments_lexer": "ipython3",
   "version": "3.10.9"
  }
 },
 "nbformat": 4,
 "nbformat_minor": 5
}
