{
 "cells": [
  {
   "cell_type": "code",
   "execution_count": 1,
   "id": "1656ee92",
   "metadata": {},
   "outputs": [
    {
     "name": "stdout",
     "output_type": "stream",
     "text": [
      "504.0\n"
     ]
    }
   ],
   "source": [
    "\"\"\"Se tienen 9 llaves: 3 rojas, 3 azules y 3 verdes. Si elegimos 4, ¿de cu´antas formas se\n",
    "pueden distribuir los colores?\"\"\"\n",
    "import math\n",
    "def combinacion(n,r)->int:\n",
    "     return (math.factorial(n))/(math.factorial(n-r))\n",
    "\"\"\"\n",
    "Los elementos(n) serían las llaves y escogemos 4 de ellas(r)\n",
    "\"\"\"\n",
    "print(combinacion(9,3))"
   ]
  },
  {
   "cell_type": "code",
   "execution_count": null,
   "id": "f6a59f91",
   "metadata": {},
   "outputs": [],
   "source": []
  }
 ],
 "metadata": {
  "kernelspec": {
   "display_name": "Python 3 (ipykernel)",
   "language": "python",
   "name": "python3"
  },
  "language_info": {
   "codemirror_mode": {
    "name": "ipython",
    "version": 3
   },
   "file_extension": ".py",
   "mimetype": "text/x-python",
   "name": "python",
   "nbconvert_exporter": "python",
   "pygments_lexer": "ipython3",
   "version": "3.10.9"
  }
 },
 "nbformat": 4,
 "nbformat_minor": 5
}
