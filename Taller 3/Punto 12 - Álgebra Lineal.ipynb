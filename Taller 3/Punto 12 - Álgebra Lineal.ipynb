{
 "cells": [
  {
   "cell_type": "code",
   "execution_count": 1,
   "id": "8528e5ee",
   "metadata": {},
   "outputs": [],
   "source": [
    "import numpy as np\n",
    "import sympy as sym"
   ]
  },
  {
   "cell_type": "markdown",
   "id": "6bfcbfb7",
   "metadata": {},
   "source": [
    "ENUNCIADO A"
   ]
  },
  {
   "cell_type": "code",
   "execution_count": 2,
   "id": "462e137b",
   "metadata": {},
   "outputs": [],
   "source": [
    "def D_central_4O(x, f, h, vec_dir):\n",
    "    derivada = f(x-2*h*vec_dir) - 8*f(x-h*vec_dir) + 8*f(x+h*vec_dir) - f(x+2*h*vec_dir)\n",
    "    return derivada/(12*h)"
   ]
  },
  {
   "cell_type": "code",
   "execution_count": 3,
   "id": "e002c96e",
   "metadata": {},
   "outputs": [],
   "source": [
    "def Jacobiana_4O(funciones, variables, x, h):\n",
    "    dimension = len(funciones)\n",
    "    M_jacobiana = np.zeros((dimension, variables))\n",
    "    i = 0\n",
    "    while i < dimension:\n",
    "        j = 0\n",
    "        while j < variables:\n",
    "            vec_dir_ = np.zeros(variables)\n",
    "            vec_dir_[j] += 1\n",
    "            M_jacobiana[i, j] = D_central_4O(x, funciones[i], h, vec_dir_)\n",
    "            j += 1\n",
    "        i += 1\n",
    "\n",
    "    return M_jacobiana"
   ]
  },
  {
   "cell_type": "markdown",
   "id": "5d6699b5",
   "metadata": {},
   "source": [
    "ENUNCIADO B"
   ]
  },
  {
   "cell_type": "code",
   "execution_count": 4,
   "id": "8f40d59f",
   "metadata": {},
   "outputs": [
    {
     "data": {
      "text/plain": [
       "array([[ 6.        ,  0.24740396,  0.24740396],\n",
       "       [ 0.37377753,  9.        ,  0.32802064],\n",
       "       [-1.16820117, -1.16820117, 60.        ]])"
      ]
     },
     "execution_count": 4,
     "metadata": {},
     "output_type": "execute_result"
    }
   ],
   "source": [
    "f1 = lambda x: 6*x[0] - 2*np.cos(x[1]*x[2]) - 1\n",
    "\n",
    "f2 = lambda x:9*x[1] + np.sqrt(x[0]**2 + np.sin(x[2]) + 1.06) + 0.9\n",
    "\n",
    "f3 = lambda x: 60*x[2] + 3*(np.e**(-x[0]*x[1])) + 10*np.pi - 3\n",
    "\n",
    "x = np.array([0.5, 0.5, 0.5])\n",
    "h = 0.01\n",
    "funciones = [f1, f2, f3]\n",
    "\n",
    "Jacobiana_4O(funciones, 3, x, h)"
   ]
  },
  {
   "cell_type": "markdown",
   "id": "55fc5190",
   "metadata": {},
   "source": [
    "ENUNCIADO C"
   ]
  },
  {
   "cell_type": "code",
   "execution_count": 5,
   "id": "bdf29099",
   "metadata": {},
   "outputs": [],
   "source": [
    "def D_central_2O(x, f, h, vec_dir):\n",
    "    derivada = f(x + h*vec_dir) - f(x-h*vec_dir)\n",
    "    return derivada/(2*h)\n",
    "\n",
    "def Jacobiana_2O(funciones, variables, x, h):\n",
    "    dimension = len(funciones)\n",
    "    M_jacobiana = np.zeros((dimension, variables))\n",
    "    i = 0\n",
    "    while i < dimension:\n",
    "        j = 0\n",
    "        while j < variables:\n",
    "            vec_dir_ = np.zeros(variables)\n",
    "            vec_dir_[j] += 1\n",
    "            M_jacobiana[i, j] = D_central_2O(x, funciones[i], h, vec_dir_)\n",
    "            j += 1\n",
    "        i += 1\n",
    "\n",
    "    return M_jacobiana\n",
    "    "
   ]
  },
  {
   "cell_type": "code",
   "execution_count": 6,
   "id": "15f326b6",
   "metadata": {},
   "outputs": [
    {
     "data": {
      "text/plain": [
       "array([[ 6.        ,  0.24740293,  0.24740293],\n",
       "       [ 0.37376854,  9.        ,  0.32801836],\n",
       "       [-1.16820604, -1.16820604, 60.        ]])"
      ]
     },
     "execution_count": 6,
     "metadata": {},
     "output_type": "execute_result"
    }
   ],
   "source": [
    "Jacobiana_2O(funciones, 3, x, h)"
   ]
  },
  {
   "cell_type": "markdown",
   "id": "14897222",
   "metadata": {},
   "source": [
    "En general, se aprecia que utilizando ambas derivadas para la construccion de la matriz jacobiana el resultado es la misma matriz para ambos casos, por lo que se puede decir que ambas derivadas son equivalentes con respecto a la precisión de los valores de la matriz."
   ]
  }
 ],
 "metadata": {
  "kernelspec": {
   "display_name": "Python 3 (ipykernel)",
   "language": "python",
   "name": "python3"
  },
  "language_info": {
   "codemirror_mode": {
    "name": "ipython",
    "version": 3
   },
   "file_extension": ".py",
   "mimetype": "text/x-python",
   "name": "python",
   "nbconvert_exporter": "python",
   "pygments_lexer": "ipython3",
   "version": "3.9.13"
  }
 },
 "nbformat": 4,
 "nbformat_minor": 5
}
