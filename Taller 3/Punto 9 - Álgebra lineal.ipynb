{
 "cells": [
  {
   "cell_type": "code",
   "execution_count": 77,
   "id": "d9e6cb83",
   "metadata": {},
   "outputs": [],
   "source": [
    "import numpy as np\n",
    "import matplotlib.pyplot as plt"
   ]
  },
  {
   "cell_type": "code",
   "execution_count": 78,
   "id": "0f38f5b4",
   "metadata": {},
   "outputs": [],
   "source": [
    "def metodo_jacobi(A, iteraciones=1000):\n",
    "    dimension = A.shape[0]\n",
    "    Id = np.identity(dimension)\n",
    "    contador = 0\n",
    "    \n",
    "    while contador < iteraciones:\n",
    "        indice_maximo = (0, 0)\n",
    "        valor_maximo = 0\n",
    "        for i in range(dimension):\n",
    "            for j in range(i+1, dimension):\n",
    "                valor = np.abs(A[i][j])\n",
    "                if valor > valor_maximo:\n",
    "                    valor_maximo = valor\n",
    "                    indice_maximo = (i,j)\n",
    "        i = indice_maximo[0]\n",
    "        j = indice_maximo[1]\n",
    "\n",
    "        if A[i][i] == A[j][j]:\n",
    "            theta = np.pi / 4\n",
    "        else:\n",
    "            x = (2 * A[i][j]) / (A[j][j] - A[i][i]) \n",
    "            if x >= 0:\n",
    "                theta = 0.5 * np.arctan(x)\n",
    "            else:\n",
    "                theta = 0.5 * np.arctan(x) + np.pi\n",
    "            \n",
    "        c = np.cos(theta)\n",
    "        s = np.sin(theta)\n",
    "        M_rotacion = np.eye(dimension)\n",
    "        M_rotacion[i][i] = c\n",
    "        M_rotacion[j][j] = c\n",
    "        M_rotacion[i][j] = s\n",
    "        M_rotacion[j][i] = -s\n",
    "\n",
    "\n",
    "        A = np.dot(M_rotacion.T, np.dot(A, M_rotacion))\n",
    "        Id = np.dot(Id, M_rotacion)\n",
    "        contador += 1\n",
    "\n",
    "    valores_propios = np.diag(A)\n",
    "    vectores_propios = Id\n",
    "\n",
    "    return valores_propios, vectores_propios"
   ]
  },
  {
   "cell_type": "code",
   "execution_count": 79,
   "id": "ae74a29d",
   "metadata": {},
   "outputs": [
    {
     "name": "stdout",
     "output_type": "stream",
     "text": [
      "(array([3.39729507, 1.70759841, 6.89510652]), array([[-0.88573564,  0.17059871,  0.43170413],\n",
      "       [ 0.07589338, -0.86427949,  0.49725362],\n",
      "       [ 0.45794385,  0.47319874,  0.75257583]]))\n"
     ]
    }
   ],
   "source": [
    "A = np.array([[4, 1, 1], [1, 3, 2], [1, 2, 5]])\n",
    "\n",
    "print(metodo_jacobi(A))"
   ]
  },
  {
   "cell_type": "code",
   "execution_count": 80,
   "id": "6c15ace1",
   "metadata": {},
   "outputs": [
    {
     "name": "stdout",
     "output_type": "stream",
     "text": [
      "[6.89510652 3.39729507 1.70759841]\n",
      "[[ 0.43170413  0.88573564  0.17059871]\n",
      " [ 0.49725362 -0.07589338 -0.86427949]\n",
      " [ 0.75257583 -0.45794385  0.47319874]]\n"
     ]
    }
   ],
   "source": [
    "#Prueba con np.linalg.eig\n",
    "\n",
    "valores, vectores = np.linalg.eig(A)\n",
    "print(valores)\n",
    "print(vectores)\n",
    "\n",
    "Se presentan algunos errores de signos en el metodo_jacobi"
   ]
  }
 ],
 "metadata": {
  "kernelspec": {
   "display_name": "Python 3 (ipykernel)",
   "language": "python",
   "name": "python3"
  },
  "language_info": {
   "codemirror_mode": {
    "name": "ipython",
    "version": 3
   },
   "file_extension": ".py",
   "mimetype": "text/x-python",
   "name": "python",
   "nbconvert_exporter": "python",
   "pygments_lexer": "ipython3",
   "version": "3.9.13"
  }
 },
 "nbformat": 4,
 "nbformat_minor": 5
}
