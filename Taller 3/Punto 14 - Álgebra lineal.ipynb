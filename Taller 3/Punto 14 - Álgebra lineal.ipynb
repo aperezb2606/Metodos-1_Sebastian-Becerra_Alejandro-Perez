{
 "cells": [
  {
   "cell_type": "code",
   "execution_count": 1,
   "id": "60d35c69",
   "metadata": {},
   "outputs": [],
   "source": [
    "import numpy as np\n",
    "import sympy as sym\n",
    "from sympy import * "
   ]
  },
  {
   "cell_type": "code",
   "execution_count": 2,
   "id": "07efc695",
   "metadata": {},
   "outputs": [
    {
     "name": "stdout",
     "output_type": "stream",
     "text": [
      "[[2*i 0]\n",
      " [0 -2*i]]\n",
      "[[2*i 0]\n",
      " [0 -2*i]]\n"
     ]
    }
   ],
   "source": [
    "i= sym.Symbol(\"i\")\n",
    "sigma_x= np.array([[0,1],[1,0]])\n",
    "sigma_y= np.array([[0,-i],[i,0]])\n",
    "sigma_z= np.array([[1,0],[0,-1]])\n",
    "print(np.dot(sigma_x,sigma_y)-np.dot(sigma_y,sigma_x))\n",
    "print(2*i*sigma_z)"
   ]
  },
  {
   "cell_type": "markdown",
   "id": "341edc13",
   "metadata": {},
   "source": [
    "Podemos verificar que sigma x * sigma y - sigmay * sigma x va a ser igual a  2 i sigma z"
   ]
  },
  {
   "cell_type": "code",
   "execution_count": null,
   "id": "5a072fcf",
   "metadata": {},
   "outputs": [],
   "source": []
  }
 ],
 "metadata": {
  "kernelspec": {
   "display_name": "Python 3 (ipykernel)",
   "language": "python",
   "name": "python3"
  },
  "language_info": {
   "codemirror_mode": {
    "name": "ipython",
    "version": 3
   },
   "file_extension": ".py",
   "mimetype": "text/x-python",
   "name": "python",
   "nbconvert_exporter": "python",
   "pygments_lexer": "ipython3",
   "version": "3.9.13"
  }
 },
 "nbformat": 4,
 "nbformat_minor": 5
}
