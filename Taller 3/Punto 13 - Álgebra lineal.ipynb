{
 "cells": [
  {
   "cell_type": "code",
   "execution_count": 274,
   "id": "b95a398a",
   "metadata": {},
   "outputs": [],
   "source": [
    "import numpy as np\n",
    "import sympy as sym"
   ]
  },
  {
   "cell_type": "code",
   "execution_count": 275,
   "id": "0f431296",
   "metadata": {},
   "outputs": [
    {
     "data": {
      "text/plain": [
       "[([[0, 0, 0], [0, 0, -1], [0, 1, 0]], 1),\n",
       " ([[0, 0, 1], [0, 0, 0], [-1, 0, 0]], 2),\n",
       " ([[0, -1, 0], [1, 0, 0], [0, 0, 0]], 3)]"
      ]
     },
     "execution_count": 275,
     "metadata": {},
     "output_type": "execute_result"
    }
   ],
   "source": [
    "Jx = [[0, 0, 0], [0, 0, -1], [0, 1, 0]], 1\n",
    "Jy = [[0, 0, 1], [0, 0, 0], [-1, 0, 0]], 2\n",
    "Jz = [[0, -1, 0], [1, 0, 0], [0, 0, 0]], 3\n",
    "\n",
    "J = [Jx, Jy, Jz]\n",
    "\n",
    "J"
   ]
  },
  {
   "cell_type": "code",
   "execution_count": 276,
   "id": "6375ef15",
   "metadata": {},
   "outputs": [],
   "source": [
    "def conmutacion_permutacion(J, K):\n",
    "    conmutador = np.dot(J[0], K[0]) - np.dot(K[0], J[0])\n",
    "    permutacion = [J[1], K[1]]\n",
    "    i = 1\n",
    "    \n",
    "    while i <= 3:\n",
    "        if i not in permutacion:\n",
    "            permutacion.append(i)\n",
    "        i += 1\n",
    "\n",
    "    return sym.Matrix(conmutador), permutacion\n"
   ]
  },
  {
   "cell_type": "code",
   "execution_count": 277,
   "id": "1b415a80",
   "metadata": {},
   "outputs": [],
   "source": [
    "def generadores_lie_SO3(J, K):\n",
    "\n",
    "    per_par = np.array([[1, 2, 3], [2, 3, 1], [3, 1, 2]])\n",
    "    per_impar = np.array([[3, 2, 1], [1, 3, 2], [2, 1, 3]])\n",
    "    \n",
    "    resultado = conmutacion_permutacion(J, K)\n",
    "    levi_civita = 0\n",
    "\n",
    "    if any(np.array_equal(resultado[1], p) for p in per_impar):\n",
    "        levi_civita = -1\n",
    "    if any(np.array_equal(resultado[1], p) for p in per_par):\n",
    "        levi_civita = 1\n",
    "\n",
    "    factor_lie = sym.Matrix(J[resultado[1][-1] - 1][0] * levi_civita) if type(levi_civita) is not int else None\n",
    "    conmutador = resultado[0]\n",
    "\n",
    "    return conmutador"
   ]
  },
  {
   "cell_type": "code",
   "execution_count": 278,
   "id": "c3189c23",
   "metadata": {},
   "outputs": [
    {
     "data": {
      "text/latex": [
       "$\\displaystyle \\left[\\begin{matrix}0 & 0 & 0\\\\0 & 0 & 0\\\\0 & 0 & 0\\end{matrix}\\right]$"
      ],
      "text/plain": [
       "Matrix([\n",
       "[0, 0, 0],\n",
       "[0, 0, 0],\n",
       "[0, 0, 0]])"
      ]
     },
     "execution_count": 278,
     "metadata": {},
     "output_type": "execute_result"
    }
   ],
   "source": [
    "generadores_lie_SO3(Jx,Jx)"
   ]
  },
  {
   "cell_type": "code",
   "execution_count": 279,
   "id": "5c7a760a",
   "metadata": {},
   "outputs": [
    {
     "data": {
      "text/latex": [
       "$\\displaystyle \\left[\\begin{matrix}0 & 0 & 0\\\\0 & 0 & 0\\\\0 & 0 & 0\\end{matrix}\\right]$"
      ],
      "text/plain": [
       "Matrix([\n",
       "[0, 0, 0],\n",
       "[0, 0, 0],\n",
       "[0, 0, 0]])"
      ]
     },
     "execution_count": 279,
     "metadata": {},
     "output_type": "execute_result"
    }
   ],
   "source": [
    "generadores_lie_SO3(Jy,Jy)"
   ]
  },
  {
   "cell_type": "code",
   "execution_count": 280,
   "id": "6c5f3465",
   "metadata": {},
   "outputs": [
    {
     "data": {
      "text/latex": [
       "$\\displaystyle \\left[\\begin{matrix}0 & 0 & 0\\\\0 & 0 & 0\\\\0 & 0 & 0\\end{matrix}\\right]$"
      ],
      "text/plain": [
       "Matrix([\n",
       "[0, 0, 0],\n",
       "[0, 0, 0],\n",
       "[0, 0, 0]])"
      ]
     },
     "execution_count": 280,
     "metadata": {},
     "output_type": "execute_result"
    }
   ],
   "source": [
    "generadores_lie_SO3(Jz,Jz)"
   ]
  },
  {
   "cell_type": "code",
   "execution_count": 281,
   "id": "c03c53bd",
   "metadata": {},
   "outputs": [
    {
     "data": {
      "text/latex": [
       "$\\displaystyle \\left[\\begin{matrix}0 & -1 & 0\\\\1 & 0 & 0\\\\0 & 0 & 0\\end{matrix}\\right]$"
      ],
      "text/plain": [
       "Matrix([\n",
       "[0, -1, 0],\n",
       "[1,  0, 0],\n",
       "[0,  0, 0]])"
      ]
     },
     "execution_count": 281,
     "metadata": {},
     "output_type": "execute_result"
    }
   ],
   "source": [
    "generadores_lie_SO3(Jx,Jy)"
   ]
  },
  {
   "cell_type": "code",
   "execution_count": 282,
   "id": "48dbd764",
   "metadata": {},
   "outputs": [
    {
     "data": {
      "text/latex": [
       "$\\displaystyle \\left[\\begin{matrix}0 & 1 & 0\\\\-1 & 0 & 0\\\\0 & 0 & 0\\end{matrix}\\right]$"
      ],
      "text/plain": [
       "Matrix([\n",
       "[ 0, 1, 0],\n",
       "[-1, 0, 0],\n",
       "[ 0, 0, 0]])"
      ]
     },
     "execution_count": 282,
     "metadata": {},
     "output_type": "execute_result"
    }
   ],
   "source": [
    "generadores_lie_SO3(Jy,Jx)"
   ]
  },
  {
   "cell_type": "code",
   "execution_count": 283,
   "id": "37f40e6d",
   "metadata": {},
   "outputs": [
    {
     "data": {
      "text/latex": [
       "$\\displaystyle \\left[\\begin{matrix}0 & 0 & -1\\\\0 & 0 & 0\\\\1 & 0 & 0\\end{matrix}\\right]$"
      ],
      "text/plain": [
       "Matrix([\n",
       "[0, 0, -1],\n",
       "[0, 0,  0],\n",
       "[1, 0,  0]])"
      ]
     },
     "execution_count": 283,
     "metadata": {},
     "output_type": "execute_result"
    }
   ],
   "source": [
    "generadores_lie_SO3(Jx,Jz)"
   ]
  },
  {
   "cell_type": "code",
   "execution_count": 284,
   "id": "7b52b3e1",
   "metadata": {},
   "outputs": [
    {
     "data": {
      "text/latex": [
       "$\\displaystyle \\left[\\begin{matrix}0 & 0 & 1\\\\0 & 0 & 0\\\\-1 & 0 & 0\\end{matrix}\\right]$"
      ],
      "text/plain": [
       "Matrix([\n",
       "[ 0, 0, 1],\n",
       "[ 0, 0, 0],\n",
       "[-1, 0, 0]])"
      ]
     },
     "execution_count": 284,
     "metadata": {},
     "output_type": "execute_result"
    }
   ],
   "source": [
    "generadores_lie_SO3(Jz,Jx)"
   ]
  },
  {
   "cell_type": "code",
   "execution_count": 285,
   "id": "fa8567ab",
   "metadata": {},
   "outputs": [
    {
     "data": {
      "text/latex": [
       "$\\displaystyle \\left[\\begin{matrix}0 & 0 & 0\\\\0 & 0 & -1\\\\0 & 1 & 0\\end{matrix}\\right]$"
      ],
      "text/plain": [
       "Matrix([\n",
       "[0, 0,  0],\n",
       "[0, 0, -1],\n",
       "[0, 1,  0]])"
      ]
     },
     "execution_count": 285,
     "metadata": {},
     "output_type": "execute_result"
    }
   ],
   "source": [
    "generadores_lie_SO3(Jy,Jz)"
   ]
  },
  {
   "cell_type": "code",
   "execution_count": 286,
   "id": "601d949b",
   "metadata": {},
   "outputs": [
    {
     "data": {
      "text/latex": [
       "$\\displaystyle \\left[\\begin{matrix}0 & 0 & 0\\\\0 & 0 & 1\\\\0 & -1 & 0\\end{matrix}\\right]$"
      ],
      "text/plain": [
       "Matrix([\n",
       "[0,  0, 0],\n",
       "[0,  0, 1],\n",
       "[0, -1, 0]])"
      ]
     },
     "execution_count": 286,
     "metadata": {},
     "output_type": "execute_result"
    }
   ],
   "source": [
    "generadores_lie_SO3(Jz,Jy)"
   ]
  },
  {
   "cell_type": "code",
   "execution_count": null,
   "id": "5c3b3f58",
   "metadata": {},
   "outputs": [],
   "source": []
  }
 ],
 "metadata": {
  "kernelspec": {
   "display_name": "Python 3 (ipykernel)",
   "language": "python",
   "name": "python3"
  },
  "language_info": {
   "codemirror_mode": {
    "name": "ipython",
    "version": 3
   },
   "file_extension": ".py",
   "mimetype": "text/x-python",
   "name": "python",
   "nbconvert_exporter": "python",
   "pygments_lexer": "ipython3",
   "version": "3.9.13"
  }
 },
 "nbformat": 4,
 "nbformat_minor": 5
}
