{
 "cells": [
  {
   "cell_type": "code",
   "execution_count": 1,
   "id": "0a41eb4f",
   "metadata": {},
   "outputs": [],
   "source": [
    "import numpy as np\n",
    "import sympy as sym\n",
    "from sympy   import  *"
   ]
  },
  {
   "cell_type": "code",
   "execution_count": 2,
   "id": "e4abb7c1",
   "metadata": {},
   "outputs": [],
   "source": [
    "i= sym.Symbol(\"i\")\n",
    "gamma_0= np.array([[1,0,0,0],[0,1,0,0],[0,0,-1,0],[0,0,0,-1]])\n",
    "gamma_1= np.array([[0,0,0,1],[0,0,1,0],[0,-1,0,0],[-1,0,0,0]])\n",
    "gamma_3= np.array([[0,0,1,0],[0,0,0,-1],[-1,0,0,0],[0,1,0,0]])\n",
    "gamma_2= np.array([[0,0,0,-i],[0,0,i,0],[0,i,0,0],[-i,0,0,0]])\n",
    "Metrica_minkowski= np.array([[1,0,0,0],[0,-1,0,0],[0,0,-1,0],[0,0,0,-1]])\n",
    "I4x4= np.array([[1,0,0,0],[0,1,0,0],[0,0,1,0],[0,0,0,1]])\n"
   ]
  },
  {
   "cell_type": "code",
   "execution_count": 6,
   "id": "47e986a1",
   "metadata": {},
   "outputs": [],
   "source": [
    "A = (np.dot(gamma_0, gamma_1) + np.dot(gamma_0, gamma_1))\n",
    "M = 2*Metrica_minkowski*I4x4"
   ]
  },
  {
   "cell_type": "code",
   "execution_count": 8,
   "id": "a1d9b1f2",
   "metadata": {},
   "outputs": [
    {
     "data": {
      "text/latex": [
       "$\\displaystyle \\left[\\begin{matrix}0 & 0 & 0 & 2\\\\0 & 0 & 2 & 0\\\\0 & 2 & 0 & 0\\\\2 & 0 & 0 & 0\\end{matrix}\\right]$"
      ],
      "text/plain": [
       "Matrix([\n",
       "[0, 0, 0, 2],\n",
       "[0, 0, 2, 0],\n",
       "[0, 2, 0, 0],\n",
       "[2, 0, 0, 0]])"
      ]
     },
     "execution_count": 8,
     "metadata": {},
     "output_type": "execute_result"
    }
   ],
   "source": [
    "sym.Matrix(A)"
   ]
  },
  {
   "cell_type": "code",
   "execution_count": 9,
   "id": "4795f0d2",
   "metadata": {},
   "outputs": [
    {
     "data": {
      "text/latex": [
       "$\\displaystyle \\left[\\begin{matrix}2 & 0 & 0 & 0\\\\0 & -2 & 0 & 0\\\\0 & 0 & -2 & 0\\\\0 & 0 & 0 & -2\\end{matrix}\\right]$"
      ],
      "text/plain": [
       "Matrix([\n",
       "[2,  0,  0,  0],\n",
       "[0, -2,  0,  0],\n",
       "[0,  0, -2,  0],\n",
       "[0,  0,  0, -2]])"
      ]
     },
     "execution_count": 9,
     "metadata": {},
     "output_type": "execute_result"
    }
   ],
   "source": [
    "sym.Matrix(M)"
   ]
  },
  {
   "cell_type": "markdown",
   "id": "4dfc1c49",
   "metadata": {},
   "source": [
    "No se verifica la propiedad anticonmutativa"
   ]
  },
  {
   "cell_type": "code",
   "execution_count": null,
   "id": "fcda4aa1",
   "metadata": {},
   "outputs": [],
   "source": []
  }
 ],
 "metadata": {
  "kernelspec": {
   "display_name": "Python 3 (ipykernel)",
   "language": "python",
   "name": "python3"
  },
  "language_info": {
   "codemirror_mode": {
    "name": "ipython",
    "version": 3
   },
   "file_extension": ".py",
   "mimetype": "text/x-python",
   "name": "python",
   "nbconvert_exporter": "python",
   "pygments_lexer": "ipython3",
   "version": "3.9.13"
  }
 },
 "nbformat": 4,
 "nbformat_minor": 5
}
