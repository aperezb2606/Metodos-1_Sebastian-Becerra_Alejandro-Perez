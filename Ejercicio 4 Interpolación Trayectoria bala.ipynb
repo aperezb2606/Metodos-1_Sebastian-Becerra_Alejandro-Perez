{
 "cells": [
  {
   "cell_type": "code",
   "execution_count": 84,
   "id": "29643f74",
   "metadata": {},
   "outputs": [],
   "source": [
    "import numpy as np\n",
    "import matplotlib.pyplot as plt\n",
    "import pandas as pd\n",
    "import sympy as sym\n",
    "import math"
   ]
  },
  {
   "cell_type": "code",
   "execution_count": 85,
   "id": "5e85ae0d",
   "metadata": {},
   "outputs": [
    {
     "name": "stdout",
     "output_type": "stream",
     "text": [
      "     X         Y\n",
      "0  1.4  0.400795\n",
      "1  3.5  0.594128\n",
      "2  5.6  0.298028\n"
     ]
    }
   ],
   "source": [
    "archivo = open(\"Parabolico.csv\")\n",
    "datos = pd.read_csv(archivo,sep=',')\n",
    "print(datos)"
   ]
  },
  {
   "cell_type": "code",
   "execution_count": 86,
   "id": "cf27bc95",
   "metadata": {},
   "outputs": [],
   "source": [
    "X = np.float64(datos['X'])\n",
    "Y = np.float64(datos['Y'])"
   ]
  },
  {
   "cell_type": "code",
   "execution_count": 87,
   "id": "3ae07fdb",
   "metadata": {},
   "outputs": [],
   "source": [
    "def Metodo_Lagrange(x,xi,j):\n",
    "    prod = 1.0\n",
    "    n = len(xi)\n",
    "    for i in range(n):\n",
    "        if i != j:\n",
    "            prod *= (x - xi[i])/(xi[j]-xi[i])  \n",
    "    return prod"
   ]
  },
  {
   "cell_type": "code",
   "execution_count": 88,
   "id": "e601ee6d",
   "metadata": {},
   "outputs": [],
   "source": [
    "def Interpolacion_Lagrange(x,xi,yi):\n",
    "    suma = 0.\n",
    "    n = len(xi)\n",
    "    for j in range(n):\n",
    "        suma += yi[j]*Metodo_Lagrange(x,xi,j)\n",
    "    return suma"
   ]
  },
  {
   "cell_type": "code",
   "execution_count": 89,
   "id": "2f0606e8",
   "metadata": {},
   "outputs": [],
   "source": [
    "#Trayectoria bala\n",
    "x = np.linspace(X[0],X[-1],100)\n",
    "y = Interpolacion_Lagrange(x,X,Y)\n"
   ]
  },
  {
   "cell_type": "code",
   "execution_count": 90,
   "id": "72ac4468",
   "metadata": {},
   "outputs": [
    {
     "data": {
      "image/png": "[encoded data removed]",
      "text/plain": [
       "<Figure size 640x480 with 1 Axes>"
      ]
     },
     "metadata": {},
     "output_type": "display_data"
    }
   ],
   "source": [
    "plt.plot(x,y,label=\"Trayectoria bala\")\n",
    "plt.scatter(X,Y,color=\"orange\")\n",
    "plt.legend(loc=0)\n",
    "plt.show()"
   ]
  },
  {
   "cell_type": "code",
   "execution_count": 91,
   "id": "2b89dbba",
   "metadata": {},
   "outputs": [
    {
     "data": {
      "text/latex": [
       "$\\displaystyle - 0.0554912422401579 x^{2} + 0.363970234266202 x + 2.77555756156289 \\cdot 10^{-17}$"
      ],
      "text/plain": [
       "-0.0554912422401579*x**2 + 0.363970234266202*x + 2.77555756156289e-17"
      ]
     },
     "execution_count": 91,
     "metadata": {},
     "output_type": "execute_result"
    }
   ],
   "source": [
    "#Polinomio interpolador\n",
    "x  = sym.Symbol('x')\n",
    "f = Interpolacion_Lagrange(x,X,Y).expand()\n",
    "f"
   ]
  },
  {
   "cell_type": "code",
   "execution_count": 134,
   "id": "9fc9ad40",
   "metadata": {},
   "outputs": [
    {
     "data": {
      "text/latex": [
       "$\\displaystyle tan \\theta x + yo - \\frac{4.9}{vox^{2}}$"
      ],
      "text/plain": [
       "tan*theta*x + yo - 4.9/vox**2"
      ]
     },
     "execution_count": 134,
     "metadata": {},
     "output_type": "execute_result"
    }
   ],
   "source": [
    "x = sym.symbols('x') #Cambio de posición (xf - xo)\n",
    "yo = sym.symbols('yo') #Altura inicial\n",
    "theta = sym.symbols('theta')\n",
    "vox = sym.symbols('vox') #velocidad inicial en x\n",
    "g = -9.8\n",
    "tan = sym.symbols('tan')\n",
    "cos = sym.symbols('cos')\n",
    "\n",
    "#Ecuación de la trayectoria\n",
    "\n",
    "y = (g/((vox**2)*2)) + tan*theta*x + yo\n",
    "\n",
    "y"
   ]
  },
  {
   "cell_type": "code",
   "execution_count": 135,
   "id": "1f59a56a",
   "metadata": {},
   "outputs": [
    {
     "name": "stdout",
     "output_type": "stream",
     "text": [
      "Tenemos que, a partir del polinomio interpolador, tan(theta) = 0.363970234266202, (g/((vo**2)*2)) = −0.0554912422401579 y 'yo' = 0.363970234266202\n"
     ]
    }
   ],
   "source": [
    "print(\"Tenemos que, a partir del polinomio interpolador, tan(theta) = 0.363970234266202, (g/((vo**2)*2)) = −0.0554912422401579 y 'yo' = 0.363970234266202\")"
   ]
  },
  {
   "cell_type": "code",
   "execution_count": 127,
   "id": "bfb5af45",
   "metadata": {},
   "outputs": [],
   "source": [
    "#Hallamos la dirección despejando \"theta\" de tan(theta) = 0.363970234266202\n",
    "theta_ = np.arctan(0.363970234266202)\n",
    "theta__= round(math.degrees(theta_))"
   ]
  },
  {
   "cell_type": "code",
   "execution_count": 145,
   "id": "abab4af5",
   "metadata": {},
   "outputs": [
    {
     "data": {
      "text/plain": [
       "9.396926207859085"
      ]
     },
     "execution_count": 145,
     "metadata": {},
     "output_type": "execute_result"
    }
   ],
   "source": [
    "#Hallamos la magnitud despejando 'vox' de (g/((vox**2)*2)) = −0.0554912422401579\n",
    "a = (-0.0554912422401579)\n",
    "vox_2 = (g/(2*a)) \n",
    "vox = vox_2**(1/2)"
   ]
  },
  {
   "cell_type": "code",
   "execution_count": 148,
   "id": "d9aeb733",
   "metadata": {},
   "outputs": [
    {
     "data": {
      "text/plain": [
       "10"
      ]
     },
     "execution_count": 148,
     "metadata": {},
     "output_type": "execute_result"
    }
   ],
   "source": [
    "# con la ecuación \"vo = vox/cos(theta)\" podemos hallar el valor de 'vo' \n",
    "\n",
    "vo = vox/np.cos(theta_)\n",
    "vo_ = round(vo)"
   ]
  },
  {
   "cell_type": "code",
   "execution_count": 154,
   "id": "7f3523a1",
   "metadata": {},
   "outputs": [],
   "source": [
    "vector_vo = (vo_,theta__) # =(Magnitud de vo, ángulo theta)"
   ]
  },
  {
   "cell_type": "code",
   "execution_count": 155,
   "id": "edb698cd",
   "metadata": {},
   "outputs": [
    {
     "data": {
      "text/plain": [
       "(10, 20)"
      ]
     },
     "execution_count": 155,
     "metadata": {},
     "output_type": "execute_result"
    }
   ],
   "source": [
    "vector_vo"
   ]
  },
  {
   "cell_type": "code",
   "execution_count": null,
   "id": "6d7b5c14",
   "metadata": {},
   "outputs": [],
   "source": []
  }
 ],
 "metadata": {
  "kernelspec": {
   "display_name": "Python 3 (ipykernel)",
   "language": "python",
   "name": "python3"
  },
  "language_info": {
   "codemirror_mode": {
    "name": "ipython",
    "version": 3
   },
   "file_extension": ".py",
   "mimetype": "text/x-python",
   "name": "python",
   "nbconvert_exporter": "python",
   "pygments_lexer": "ipython3",
   "version": "3.9.13"
  }
 },
 "nbformat": 4,
 "nbformat_minor": 5
}
