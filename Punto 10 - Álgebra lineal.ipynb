{
 "cells": [
  {
   "cell_type": "code",
   "execution_count": 1,
   "id": "b25f2565",
   "metadata": {},
   "outputs": [],
   "source": [
    "import numpy as np\n",
    "import matplotlib.pyplot as plt"
   ]
  },
  {
   "cell_type": "code",
   "execution_count": 6,
   "id": "4c594259",
   "metadata": {},
   "outputs": [],
   "source": [
    "def potencial_inverso(H, v, tolerancia=1e-9):\n",
    "    \n",
    "    H_inv = np.linalg.inv(H)\n",
    "    \n",
    "    while True:\n",
    "        v_it = np.dot(H_inv, v)\n",
    "        norma = np.linalg.norm(v_it)\n",
    "        v_it = v_it/norma\n",
    "\n",
    "        Eo = 1/np.dot(v_it, np.dot(H, v_it))\n",
    "        \n",
    "        if np.linalg.norm(v_it - v) < tolerancia:\n",
    "            break\n",
    "\n",
    "        v = v_it\n",
    "\n",
    "        psi_0 = v_it/np.linalg.norm(v_it)\n",
    " \n",
    "\n",
    "    return Eo, psi_0"
   ]
  },
  {
   "cell_type": "code",
   "execution_count": 10,
   "id": "47b3e260",
   "metadata": {},
   "outputs": [
    {
     "name": "stdout",
     "output_type": "stream",
     "text": [
      "[ 0.40824829 -0.40824829 -0.81649658]\n"
     ]
    }
   ],
   "source": [
    "H = np.array([[1, 2, -1], [1, 0, 1], [4, -4, 5]])\n",
    "v = -np.random.rand(3)\n",
    "\n",
    "Eo, psi_0 = potencial_inverso(H, v)\n",
    "\n",
    "\n",
    "print(psi_0)"
   ]
  },
  {
   "cell_type": "code",
   "execution_count": null,
   "id": "f4a7f0ec",
   "metadata": {},
   "outputs": [],
   "source": []
  }
 ],
 "metadata": {
  "kernelspec": {
   "display_name": "Python 3 (ipykernel)",
   "language": "python",
   "name": "python3"
  },
  "language_info": {
   "codemirror_mode": {
    "name": "ipython",
    "version": 3
   },
   "file_extension": ".py",
   "mimetype": "text/x-python",
   "name": "python",
   "nbconvert_exporter": "python",
   "pygments_lexer": "ipython3",
   "version": "3.9.13"
  }
 },
 "nbformat": 4,
 "nbformat_minor": 5
}
