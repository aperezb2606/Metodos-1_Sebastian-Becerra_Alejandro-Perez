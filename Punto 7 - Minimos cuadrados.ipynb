{
 "cells": [
  {
   "cell_type": "code",
   "execution_count": 29,
   "id": "18076a78",
   "metadata": {},
   "outputs": [],
   "source": [
    "import numpy as np\n",
    "import matplotlib.pyplot as plt\n",
    "import pandas as pd"
   ]
  },
  {
   "cell_type": "code",
   "execution_count": 30,
   "id": "da47b3fe",
   "metadata": {},
   "outputs": [
    {
     "name": "stdout",
     "output_type": "stream",
     "text": [
      "           x         y\n",
      "0  -3.186022 -0.126490\n",
      "1   0.392737  3.396318\n",
      "2  -4.817696 -0.032391\n",
      "3  -1.577942  0.069783\n",
      "4  -8.935573  0.017409\n",
      "5  -0.592758  0.727137\n",
      "6   4.934335  4.475377\n",
      "7  -7.722024  0.024865\n",
      "8   5.616402  4.506522\n",
      "9  -5.407019  0.011716\n",
      "10  1.601067  4.511663\n",
      "11 -5.550964 -0.036123\n",
      "12 -3.583489 -0.069709\n",
      "13 -5.223766  0.003032\n",
      "14  0.253055  2.943534\n",
      "15 -8.073227 -0.009959\n",
      "16  6.562836  4.422080\n",
      "17  4.957488  4.471753\n",
      "18 -6.739070  0.028901\n",
      "19  6.789948  4.578817\n",
      "20 -4.683477 -0.010250\n",
      "21  7.882835  4.514181\n",
      "22 -4.672545 -0.084745\n",
      "23 -6.398048 -0.018367\n",
      "24 -3.347306 -0.098493\n",
      "25 -9.373003 -0.049116\n",
      "26 -4.784002  0.013133\n",
      "27 -3.636327  0.036446\n",
      "28 -5.255305 -0.030479\n",
      "29 -8.450866  0.055993\n",
      "30 -4.638201  0.019700\n",
      "31 -6.095493 -0.049814\n",
      "32  9.448117  4.528865\n",
      "33 -1.816208  0.015519\n",
      "34  8.931352  4.547974\n",
      "35 -6.427343  0.026792\n",
      "36  9.639363  4.439721\n",
      "37  1.157599  4.342836\n",
      "38 -2.373627 -0.015373\n",
      "39  9.033973  4.546410\n",
      "40 -6.856653 -0.006107\n",
      "41  3.017532  4.495061\n",
      "42 -8.081022  0.001155\n",
      "43 -5.929525 -0.043981\n",
      "44 -2.988910  0.043201\n",
      "45  6.731394  4.542287\n",
      "46 -4.803569 -0.108062\n",
      "47  6.893557  4.541207\n",
      "48 -0.089946  1.952478\n",
      "49 -3.067276 -0.040312\n"
     ]
    }
   ],
   "source": [
    "archivo = open(\"datos_punto7.csv\")\n",
    "datos = pd.read_csv(archivo,sep=',')\n",
    "print(datos)"
   ]
  },
  {
   "cell_type": "code",
   "execution_count": 31,
   "id": "6283811c",
   "metadata": {},
   "outputs": [],
   "source": [
    "x = np.float64(datos['x'])\n",
    "y = np.float64(datos['y'])"
   ]
  },
  {
   "cell_type": "markdown",
   "id": "1fde6964",
   "metadata": {},
   "source": [
    "ENUNCIADOS A Y B"
   ]
  },
  {
   "cell_type": "code",
   "execution_count": 32,
   "id": "024d458b",
   "metadata": {},
   "outputs": [],
   "source": [
    "def modelo(x,p):\n",
    "    return p[0]/(p[1]+np.exp(-p[2]*x))\n",
    "\n",
    "def funcion_costo(p,x,y):\n",
    "    return np.sum((y-modelo(x,p))**2)"
   ]
  },
  {
   "cell_type": "markdown",
   "id": "99463944",
   "metadata": {},
   "source": [
    "ENUNCIADO D"
   ]
  },
  {
   "cell_type": "code",
   "execution_count": 33,
   "id": "336ee54e",
   "metadata": {},
   "outputs": [],
   "source": [
    "def gradiente_fc(p,x,h=1e-6):\n",
    "    dim=len(p)\n",
    "    J=np.zeros(dim)\n",
    "    for j in range(dim):\n",
    "        h_=np.zeros(dim)\n",
    "        h_[j]=h\n",
    "        J[j]=(modelo(x,p+h_)-modelo(x,p-h_))/(2*h)\n",
    "    return J"
   ]
  },
  {
   "cell_type": "markdown",
   "id": "886805e2",
   "metadata": {},
   "source": [
    "ENUNCIADO E"
   ]
  },
  {
   "cell_type": "code",
   "execution_count": 38,
   "id": "b6b65a37",
   "metadata": {},
   "outputs": [
    {
     "name": "stdout",
     "output_type": "stream",
     "text": [
      "[4.15951336 0.92110979 2.84500773]\n"
     ]
    }
   ],
   "source": [
    "def sol_func(p,x,y,modelo=modelo,tasa_ap=5e-4,max_iter=int(1e4),error=1e-2):\n",
    "    d=1\n",
    "    it=0\n",
    "    while d > error and it < max_iter:\n",
    "        valor_0 = funcion_costo(p,x,y)\n",
    "        Suma =0\n",
    "        for i in range(len(y)):\n",
    "            Suma += (y[i]-modelo(x[i],p))*gradiente_fc(p,x[i])\n",
    "        p=p-tasa_ap*(-2)*Suma\n",
    "        valor_1=funcion_costo(p,x,y)        \n",
    "        d=np.abs(valor_0-valor_1)/valor_1\n",
    "        d=np.sqrt(valor_1/len(y)) \n",
    "        it+=1\n",
    "        \n",
    "    if d < error:\n",
    "        print(\"Entrenamiento completo\", d, \"iteraciones\", it)\n",
    "    return p,it\n",
    "\n",
    "\n",
    "x_sol,it=sol_func(np.array([1.,1.,1.]), x, y)\n",
    "print(x_sol)"
   ]
  },
  {
   "cell_type": "markdown",
   "id": "7b033b36",
   "metadata": {},
   "source": [
    "ENUNCIADO F"
   ]
  },
  {
   "cell_type": "code",
   "execution_count": 39,
   "id": "21f32e0b",
   "metadata": {},
   "outputs": [
    {
     "data": {
      "image/png": "[encoded data removed]",
      "text/plain": [
       "<Figure size 640x480 with 1 Axes>"
      ]
     },
     "metadata": {},
     "output_type": "display_data"
    }
   ],
   "source": [
    "x_=np.linspace(-10,10,100)\n",
    "plt.figure()\n",
    "plt.scatter(x,y)\n",
    "plt.plot(x_,modelo(x_,x_sol),color=\"r\")\n",
    "plt.show()"
   ]
  },
  {
   "cell_type": "code",
   "execution_count": null,
   "id": "b4401dc3",
   "metadata": {},
   "outputs": [],
   "source": []
  }
 ],
 "metadata": {
  "kernelspec": {
   "display_name": "Python 3 (ipykernel)",
   "language": "python",
   "name": "python3"
  },
  "language_info": {
   "codemirror_mode": {
    "name": "ipython",
    "version": 3
   },
   "file_extension": ".py",
   "mimetype": "text/x-python",
   "name": "python",
   "nbconvert_exporter": "python",
   "pygments_lexer": "ipython3",
   "version": "3.9.13"
  }
 },
 "nbformat": 4,
 "nbformat_minor": 5
}
