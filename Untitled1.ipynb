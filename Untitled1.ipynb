{
 "cells": [
  {
   "cell_type": "code",
   "execution_count": 12,
   "id": "789b32c8",
   "metadata": {},
   "outputs": [],
   "source": [
    "%matplotlib notebook\n",
    "import matplotlib.pyplot as plt\n",
    "import numpy as np\n",
    "from mpl_toolkits.mplot3d import axes3d\n",
    "from scipy import integrate\n",
    "from tqdm import tqdm"
   ]
  },
  {
   "cell_type": "code",
   "execution_count": 13,
   "id": "eb2dc278",
   "metadata": {},
   "outputs": [
    {
     "name": "stderr",
     "output_type": "stream",
     "text": [
      "100%|██████████| 100000/100000 [00:02<00:00, 40290.26it/s]\n"
     ]
    }
   ],
   "source": [
    "def CreateSphere(N,R=1):\n",
    "    \n",
    "    Points = np.zeros((N,3))\n",
    "        \n",
    "    for i in tqdm(range(N)):\n",
    "        \n",
    "        phi = np.random.uniform(0,2*np.pi)\n",
    "        u = np.random.rand()\n",
    "        r = R*u**(1/3)\n",
    "        costheta = np.random.uniform(-1,1)\n",
    "        theta = np.arccos(costheta)\n",
    "        \n",
    "        Points[i] = [r*np.cos(phi)*np.sin(theta),r*np.sin(phi)*np.sin(theta),r*np.cos(theta)]\n",
    "        \n",
    "    return Points\n",
    "\n",
    "Sphere = CreateSphere(100000)"
   ]
  },
  {
   "cell_type": "code",
   "execution_count": 14,
   "id": "25c1b553",
   "metadata": {},
   "outputs": [
    {
     "data": {
      "text/plain": [
       "4.1887902047863905"
      ]
     },
     "execution_count": 14,
     "metadata": {},
     "output_type": "execute_result"
    }
   ],
   "source": [
    "def Ixx(y,z):\n",
    "    return y**2+z**2\n",
    "\n",
    "def Iyy(x,z):\n",
    "    return x**2+z**2\n",
    "\n",
    "def Izz(x,y):\n",
    "    return x**2+y**2\n"
   ]
  },
  {
   "cell_type": "code",
   "execution_count": 17,
   "id": "16142457",
   "metadata": {},
   "outputs": [],
   "source": [
    "d = np.random.rand(300,3)\n",
    "def Integral(funcion, d, N=10000, R=1):\n",
    "    integral = 0.\n",
    "    for i in range(N):\n",
    "        integral += FunctionI(data[0][i],data[1][i],data[2][i])\n",
    "    Norma = (4.*np.pi)*(R**3)/3.\n",
    "    integral *= Norma/Npoints\n",
    "    return integral"
   ]
  },
  {
   "cell_type": "code",
   "execution_count": null,
   "id": "b05266e5",
   "metadata": {},
   "outputs": [],
   "source": []
  },
  {
   "cell_type": "code",
   "execution_count": null,
   "id": "6a6f1883",
   "metadata": {},
   "outputs": [],
   "source": []
  }
 ],
 "metadata": {
  "kernelspec": {
   "display_name": "Python 3 (ipykernel)",
   "language": "python",
   "name": "python3"
  },
  "language_info": {
   "codemirror_mode": {
    "name": "ipython",
    "version": 3
   },
   "file_extension": ".py",
   "mimetype": "text/x-python",
   "name": "python",
   "nbconvert_exporter": "python",
   "pygments_lexer": "ipython3",
   "version": "3.9.13"
  }
 },
 "nbformat": 4,
 "nbformat_minor": 5
}
