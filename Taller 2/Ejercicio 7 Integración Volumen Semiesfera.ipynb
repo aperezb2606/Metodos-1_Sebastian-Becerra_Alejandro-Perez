{
 "cells": [
  {
   "cell_type": "code",
   "execution_count": 1,
   "id": "0a345527",
   "metadata": {},
   "outputs": [],
   "source": [
    "import numpy as np"
   ]
  },
  {
   "cell_type": "code",
   "execution_count": 43,
   "id": "27ce9a10",
   "metadata": {},
   "outputs": [],
   "source": [
    "R = 1\n",
    "n = 1000\n",
    "h = 2*R/n\n",
    "V = 0"
   ]
  },
  {
   "cell_type": "code",
   "execution_count": 44,
   "id": "3ca175fb",
   "metadata": {},
   "outputs": [],
   "source": [
    "for i in range(n):\n",
    "    xi = -R + i*h\n",
    "    for j in range(n):\n",
    "        yi = -R + j*h\n",
    "        dist = (xi**2 + yi**2 + (R**2 - xi**2 - yi**2)**2)**(1/2)\n",
    "        if dist <= R:\n",
    "            fij = (R**2 - xi**2 - yi**2)**(1/2)\n",
    "            V += fij\n",
    "V *= h**2"
   ]
  },
  {
   "cell_type": "code",
   "execution_count": 45,
   "id": "137d2366",
   "metadata": {},
   "outputs": [
    {
     "name": "stdout",
     "output_type": "stream",
     "text": [
      "Volumen de la semiesfera: (2.094388378863277+4.070059731451386e-13j)\n"
     ]
    }
   ],
   "source": [
    "print(\"Volumen de la semiesfera:\", V)"
   ]
  },
  {
   "cell_type": "code",
   "execution_count": null,
   "id": "edf6ee57",
   "metadata": {},
   "outputs": [],
   "source": [
    "\n"
   ]
  },
  {
   "cell_type": "code",
   "execution_count": null,
   "id": "acc7b698",
   "metadata": {},
   "outputs": [],
   "source": []
  }
 ],
 "metadata": {
  "kernelspec": {
   "display_name": "Python 3 (ipykernel)",
   "language": "python",
   "name": "python3"
  },
  "language_info": {
   "codemirror_mode": {
    "name": "ipython",
    "version": 3
   },
   "file_extension": ".py",
   "mimetype": "text/x-python",
   "name": "python",
   "nbconvert_exporter": "python",
   "pygments_lexer": "ipython3",
   "version": "3.9.13"
  }
 },
 "nbformat": 4,
 "nbformat_minor": 5
}
