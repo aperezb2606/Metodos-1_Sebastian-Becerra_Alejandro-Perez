{
 "cells": [
  {
   "cell_type": "code",
   "execution_count": 17,
   "id": "09b2c3bb",
   "metadata": {},
   "outputs": [],
   "source": [
    "import numpy as np\n",
    "import matplotlib.pyplot as plt\n",
    "import sympy as sym"
   ]
  },
  {
   "cell_type": "code",
   "execution_count": 18,
   "id": "36fb8829",
   "metadata": {},
   "outputs": [],
   "source": [
    "f = lambda x: np.tanh(((x**2+DT**2)**(1/2))*(300/(2*T)))/((x**2+DT**2)**(1/2))"
   ]
  },
  {
   "cell_type": "code",
   "execution_count": 21,
   "id": "4a8363b7",
   "metadata": {},
   "outputs": [
    {
     "name": "stdout",
     "output_type": "stream",
     "text": [
      "[array([-0.9988664 , -0.99403197, -0.98535408, -0.97286439, -0.95661096,\n",
      "       -0.93665662, -0.91307856, -0.88596798, -0.85542977, -0.82158207,\n",
      "       -0.78455583, -0.7444943 , -0.70155247, -0.65589647, -0.60770293,\n",
      "       -0.5571583 , -0.50445814, -0.44980633, -0.39341431, -0.33550025,\n",
      "       -0.27628819, -0.21600724, -0.15489059, -0.0931747 , -0.03109834,\n",
      "        0.03109834,  0.0931747 ,  0.15489059,  0.21600724,  0.27628819,\n",
      "        0.33550025,  0.39341431,  0.44980633,  0.50445814,  0.5571583 ,\n",
      "        0.60770293,  0.65589647,  0.70155247,  0.7444943 ,  0.78455583,\n",
      "        0.82158207,  0.85542977,  0.88596798,  0.91307856,  0.93665662,\n",
      "        0.95661096,  0.97286439,  0.98535408,  0.99403197,  0.9988664 ]), array([0.00290862, 0.0067598 , 0.01059055, 0.01438082, 0.01811556,\n",
      "       0.02178024, 0.02536067, 0.02884299, 0.03221373, 0.03545984,\n",
      "       0.03856876, 0.04152846, 0.0443275 , 0.04695505, 0.04940094,\n",
      "       0.0516557 , 0.05371062, 0.05555774, 0.05718993, 0.05860085,\n",
      "       0.05978506, 0.06073797, 0.0614559 , 0.06193607, 0.06217662,\n",
      "       0.06217662, 0.06193607, 0.0614559 , 0.06073797, 0.05978506,\n",
      "       0.05860085, 0.05718993, 0.05555774, 0.05371062, 0.0516557 ,\n",
      "       0.04940094, 0.04695505, 0.0443275 , 0.04152846, 0.03856876,\n",
      "       0.03545984, 0.03221373, 0.02884299, 0.02536067, 0.02178024,\n",
      "       0.01811556, 0.01438082, 0.01059055, 0.0067598 , 0.00290862])]\n"
     ]
    }
   ],
   "source": [
    "def puntos_pesos(n):\n",
    "    puntos, pesos = np.polynomial.legendre.leggauss(n)\n",
    "    return [puntos,pesos]\n",
    "\n",
    "#Puntos y pesos cuando n=50\n",
    "puntos = puntos_pesos[0]\n",
    "pesos = puntos_pesos[1]\n",
    "\n",
    "print(puntos_pesos(50))"
   ]
  },
  {
   "cell_type": "code",
   "execution_count": 22,
   "id": "d4c1cbc7",
   "metadata": {},
   "outputs": [
    {
     "ename": "NameError",
     "evalue": "name 'pesos' is not defined",
     "output_type": "error",
     "traceback": [
      "\u001b[1;31m---------------------------------------------------------------------------\u001b[0m",
      "\u001b[1;31mNameError\u001b[0m                                 Traceback (most recent call last)",
      "\u001b[1;32m~\\AppData\\Local\\Temp\\ipykernel_10740\\1041907254.py\u001b[0m in \u001b[0;36m<module>\u001b[1;34m\u001b[0m\n\u001b[0;32m      4\u001b[0m \u001b[0mi\u001b[0m \u001b[1;33m=\u001b[0m \u001b[1;36m0\u001b[0m\u001b[1;33m\u001b[0m\u001b[1;33m\u001b[0m\u001b[0m\n\u001b[0;32m      5\u001b[0m \u001b[1;32mwhile\u001b[0m\u001b[1;33m(\u001b[0m\u001b[0mseguir\u001b[0m\u001b[1;33m)\u001b[0m\u001b[1;33m:\u001b[0m\u001b[1;33m\u001b[0m\u001b[1;33m\u001b[0m\u001b[0m\n\u001b[1;32m----> 6\u001b[1;33m     \u001b[1;32mif\u001b[0m \u001b[0mnp\u001b[0m\u001b[1;33m.\u001b[0m\u001b[0mabs\u001b[0m\u001b[1;33m(\u001b[0m\u001b[1;33m(\u001b[0m\u001b[1;36m0.5\u001b[0m\u001b[1;33m*\u001b[0m\u001b[0mnp\u001b[0m\u001b[1;33m.\u001b[0m\u001b[0msum\u001b[0m\u001b[1;33m(\u001b[0m\u001b[0mpesos\u001b[0m\u001b[1;33m*\u001b[0m\u001b[0mFunc\u001b[0m\u001b[1;33m(\u001b[0m\u001b[0mnodos\u001b[0m\u001b[1;33m,\u001b[0m\u001b[1;36m0\u001b[0m\u001b[1;33m,\u001b[0m\u001b[0mT\u001b[0m\u001b[1;33m[\u001b[0m\u001b[0mi\u001b[0m\u001b[1;33m]\u001b[0m\u001b[1;33m)\u001b[0m\u001b[1;33m)\u001b[0m\u001b[1;33m)\u001b[0m\u001b[1;33m-\u001b[0m\u001b[1;36m1\u001b[0m\u001b[1;33m/\u001b[0m\u001b[1;33m(\u001b[0m\u001b[1;36m0.3\u001b[0m\u001b[1;33m)\u001b[0m\u001b[1;33m)\u001b[0m \u001b[1;33m<\u001b[0m \u001b[0mdT\u001b[0m\u001b[1;33m:\u001b[0m\u001b[1;33m\u001b[0m\u001b[1;33m\u001b[0m\u001b[0m\n\u001b[0m\u001b[0;32m      7\u001b[0m         \u001b[0mTc\u001b[0m \u001b[1;33m=\u001b[0m \u001b[0mT\u001b[0m\u001b[1;33m[\u001b[0m\u001b[0mi\u001b[0m\u001b[1;33m]\u001b[0m\u001b[1;33m\u001b[0m\u001b[1;33m\u001b[0m\u001b[0m\n\u001b[0;32m      8\u001b[0m         \u001b[0mseguir\u001b[0m \u001b[1;33m=\u001b[0m \u001b[1;32mFalse\u001b[0m\u001b[1;33m\u001b[0m\u001b[1;33m\u001b[0m\u001b[0m\n",
      "\u001b[1;31mNameError\u001b[0m: name 'pesos' is not defined"
     ]
    }
   ],
   "source": [
    "T, dT = np.linspace(1,20,190001,retstep=True)\n",
    "seguir = True\n",
    "Tc = 0\n",
    "i = 0\n",
    "while(seguir):\n",
    "    if np.abs((0.5*np.sum(pesos*Func(nodos,0,T[i])))-1/(0.3)) < dT: \n",
    "        Tc = T[i]\n",
    "        seguir = False\n",
    "    if i > 190000-1:\n",
    "        seguir = False\n",
    "    i += 1\n",
    "print(Tc)"
   ]
  },
  {
   "cell_type": "code",
   "execution_count": null,
   "id": "123c2db7",
   "metadata": {},
   "outputs": [],
   "source": []
  }
 ],
 "metadata": {
  "kernelspec": {
   "display_name": "Python 3 (ipykernel)",
   "language": "python",
   "name": "python3"
  },
  "language_info": {
   "codemirror_mode": {
    "name": "ipython",
    "version": 3
   },
   "file_extension": ".py",
   "mimetype": "text/x-python",
   "name": "python",
   "nbconvert_exporter": "python",
   "pygments_lexer": "ipython3",
   "version": "3.9.13"
  }
 },
 "nbformat": 4,
 "nbformat_minor": 5
}
