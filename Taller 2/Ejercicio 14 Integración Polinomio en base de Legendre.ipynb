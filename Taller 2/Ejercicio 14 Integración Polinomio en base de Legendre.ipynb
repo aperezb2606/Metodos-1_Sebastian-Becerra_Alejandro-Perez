{
 "cells": [
  {
   "cell_type": "code",
   "execution_count": 122,
   "id": "c3cdbf3f",
   "metadata": {},
   "outputs": [],
   "source": [
    "import numpy as np\n",
    "import matplotlib.pyplot as plt\n",
    "import sympy as sym"
   ]
  },
  {
   "cell_type": "code",
   "execution_count": 133,
   "id": "5c7d21a8",
   "metadata": {},
   "outputs": [],
   "source": [
    "x = sym.Symbol('x',Real=True)\n",
    "p = 3+5*x+x**2"
   ]
  },
  {
   "cell_type": "code",
   "execution_count": 134,
   "id": "949b83e4",
   "metadata": {},
   "outputs": [
    {
     "name": "stdout",
     "output_type": "stream",
     "text": [
      "1\n",
      "x\n",
      "(3*x**2 - 1)/2\n"
     ]
    }
   ],
   "source": [
    "def Legendre_(n):\n",
    "    x = sym.Symbol('x',Real=True)\n",
    "    y = sym.Symbol('y',Real=True)\n",
    "    y = (x**2 - 1)**n\n",
    "    p = sym.diff(y,x,n)/(2**n * np.math.factorial(n))\n",
    "    return p\n",
    "\n",
    "print(Legendre_(0))\n",
    "print(Legendre_(1))\n",
    "print(Legendre_(2))"
   ]
  },
  {
   "cell_type": "code",
   "execution_count": 142,
   "id": "a47852cb",
   "metadata": {},
   "outputs": [
    {
     "data": {
      "text/plain": [
       "[10/3, 5, 2/3]"
      ]
     },
     "execution_count": 142,
     "metadata": {},
     "output_type": "execute_result"
    }
   ],
   "source": [
    "def coeficientes():\n",
    "    x = sym.Symbol('x',Real=True)\n",
    "    m = []\n",
    "    n = 0\n",
    "    while n<3:\n",
    "        pn = Legendre_(n)\n",
    "        pn_ = sym.sqrt(sym.integrate(pn**2, (x, -1, 1)))\n",
    "        p_n = pn/pn_\n",
    "        coeff = sym.integrate(p*p_n, (x, -1, 1))\n",
    "        coeff/=pn_\n",
    "        m.append(coeff)\n",
    "        n+=1\n",
    "    return m\n",
    "\n",
    "coeficientes()"
   ]
  },
  {
   "cell_type": "code",
   "execution_count": null,
   "id": "fe8fb9d8",
   "metadata": {},
   "outputs": [],
   "source": [
    "#Polinomio expresado en bases de Legendre\n",
    "p0 = sym.symbols('p(0)')\n",
    "p1 = sym.symbols('p(1)')\n",
    "p2 = sym.symbols('p(2)')\n",
    "co = coeficientes()\n",
    "polinomio = co[0]*p0+co[1]*p1+co[0]*p0"
   ]
  }
 ],
 "metadata": {
  "kernelspec": {
   "display_name": "Python 3 (ipykernel)",
   "language": "python",
   "name": "python3"
  },
  "language_info": {
   "codemirror_mode": {
    "name": "ipython",
    "version": 3
   },
   "file_extension": ".py",
   "mimetype": "text/x-python",
   "name": "python",
   "nbconvert_exporter": "python",
   "pygments_lexer": "ipython3",
   "version": "3.9.13"
  }
 },
 "nbformat": 4,
 "nbformat_minor": 5
}
